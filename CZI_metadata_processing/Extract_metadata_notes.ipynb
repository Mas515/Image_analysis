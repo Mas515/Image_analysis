{
 "cells": [
  {
   "cell_type": "markdown",
   "id": "44df46f5",
   "metadata": {},
   "source": [
    "# Importing CZI file format\n",
    "\n",
    "\n",
    "import czifile\n",
    "from lxml import etree\n",
    "czi = czifile.CziFile(\"/Users/secchim/Documents/Experiments/VWF_067_MS220522_24hdep/VWF_067_220526_M2_movie1.czi\")\n",
    "\n",
    "czi_xml_str = czi.metadata()\n",
    "\n",
    "#true is read as True, not as string\n",
    "\n"
   ]
  },
  {
   "cell_type": "markdown",
   "id": "50619917",
   "metadata": {},
   "source": [
    "# Working with CZI files option 1 \n",
    "\n",
    "czi_parsed = etree.fromstring(czi_xml_str)\n",
    "\n",
    "\n",
    "##this returns a list (take first element of list under presumption\n",
    "##that a file can't have multiple creation dates\n",
    "\n",
    "acquisition_time = czi_parsed.xpath(\"//AcquisitionDateAndTime\")[0]\n",
    "position_coordinates = czi_parsed.xpath(\"//CenterPosition\")[0]\n",
    "\n",
    "##this allows you to find what you want in your dictionary/ list? "
   ]
  },
  {
   "cell_type": "markdown",
   "id": "4425c889",
   "metadata": {},
   "source": [
    "# Working with CZI files option 2\n",
    "\n",
    "###giving the path of the dictionary\n",
    "\n",
    "if \"S\" in metadatadict_czi['ImageDocument']['Metadata']['Information']['Image']['Dimensions'].keys():\n",
    "                    allscenes = metadatadict_czi['ImageDocument']['Metadata']['Information']['Image']['Dimensions']['S']['Scenes']['Scene']\n",
    "                    if isinstance(allscenes, dict):\n",
    "                        df['Position_Name'].append(file+'_'+site['Name'])\n",
    "\n",
    "\n",
    "###looping through it if it's a list []\n",
    "\n",
    "if isinstance(tile, list):\n",
    "                                for i in tile: #going inside the list !!!!\n",
    "                                       df['Tilecolumn'].append(i['Columns'])  \n"
   ]
  },
  {
   "cell_type": "markdown",
   "id": "070130b1",
   "metadata": {},
   "source": [
    "# Panda functions\n",
    "\n",
    "import pandas as pd\n",
    "\n",
    "#to create a dataframe: \n",
    "pddf=pd.DataFrame(df)\n",
    "\n",
    "#to create a new column\n",
    "mice['FileID']= (mice['Experiment']+mice['Imaging_Date'])\n",
    "\n",
    "#go export a csv file\n",
    "pddf.to_csv('/Users/secchim/Documents/VWF_043_045_048_049_053_060_062_063_066_067_IVM_metadata.csv', index=False)\n",
    "\n",
    "#to read a csv file\n",
    "pddf=pd.read_csv('/Users/secchim/Documents/VWF_043_MS211118_onstage_plt_depletion_metadata.csv')\n",
    "\n",
    "#to concatenate dfs by adding each one below the other\n",
    "pddf=pd.concat([pddf, pddf2 ], axis =0)\n",
    "\n",
    "#to concatenate/ merge dfs if different columns/ rows \n",
    "merged_df=pd.merge(mice, df[:], on = 'FileID')#file ID is the value that is in common between both dfs\n",
    "\n",
    "#to drop duplicated rows\n",
    "merged_df=merged_df.drop_duplicates()\n",
    "\n",
    "#to replace a string\n",
    "df['Position_Name']=df['Position_Name'].str.replace(r'VWF_045_211','VWF_045_MS211')\n",
    "\n",
    "#to capitalize a string \n",
    "df['FileID']=df['Position_Name'].str.upper()\n",
    "\n",
    "#to select the first 8 characters of a string \n",
    "merged_df['AcquisitionTime']=merged_df['AcquisitionTime'].str[:8]\n",
    "\n",
    "#to create a list of dataframes where data from the initial dataframe is grouped \n",
    "grouped=merged_df.groupby(['Position_Name'])\n"
   ]
  },
  {
   "cell_type": "markdown",
   "id": "4a144b29",
   "metadata": {},
   "source": [
    "# Logic functions\n",
    "\n",
    "#for loops\n",
    "for x in column/list/dictionary: \n",
    "    print(x)\n",
    "    \n",
    "#if loops\n",
    "\n",
    "if i['IsUsedForAcquisition']==True:\n",
    "    print(x)\n",
    "elif:\n",
    "    print(y)\n",
    "else:\n",
    "    print(z)\n",
    "    \n",
    "    \n",
    "#try functions, doesn't give error messages\n",
    "\n",
    "try: \n",
    "    if i['IsUsedForAcquisition']==True:\n",
    "\n",
    "except Exception as e:\n",
    "            # print(f\"{file} error1 {e}\")"
   ]
  },
  {
   "cell_type": "markdown",
   "id": "e3b2bd5d",
   "metadata": {},
   "source": [
    "# Useful\n",
    "\n",
    "#lines to go through all the files in a folder list \n",
    "filepath='/Volumes/LoCelso/Secchi Marine'\n",
    "\n",
    "folder_list=['VWF_043_MS211118_onstage_plt_depletion']\n",
    "\n",
    "for folder in folder_list:\n",
    "    filepath=os.path.join(filepath,folder)\n",
    "    for root, dirs, files in os.walk(filepath):"
   ]
  },
  {
   "cell_type": "markdown",
   "id": "82dabb2e",
   "metadata": {},
   "source": [
    "# Dictionaries vs lists\n",
    "\n",
    "#creating empty dictionary \n",
    "#structure is key, value\n",
    "dict={\n",
    "    ['name']:,\n",
    "}\n",
    "\n",
    "#list you can use indexes\n",
    "\n",
    "#command+O\n",
    "#to open a file in visual studio code\n",
    "\n",
    "#shift+select\n",
    "#to compare 2 files in visual studio code"
   ]
  },
  {
   "cell_type": "markdown",
   "id": "9608e28f",
   "metadata": {},
   "source": [
    "##Working with tif files\n",
    "\n",
    "import skimage\n",
    "import numpy as np\n",
    "import matplotlib.pyplot as plt\n",
    "\n",
    "image=skimage.data.human_mitosis()\n",
    "pad_image=np.pad(image, pad_width=((0,0), (100, 100)), constant_values=0)\n",
    "fig, ax = plt.subplots(1, 2, figsize=(8, 4))\n",
    "ax[0].imshow(image, cmap=plt.cm.gray)\n",
    "ax[1].imshow(pad_image, cmap=plt.cm.gray)\n",
    "\n",
    "#HOW TO READ FILES WITH SKIMAGE \n",
    "image=skimage.io.imread('/Users/secchim/Downloads/CellProfiler/VWF_066_VWF_067_2D/VWF_067_220526_M2_p5DP-LSM Plus Processing-02.tif')\n",
    "image.shape"
   ]
  }
 ],
 "metadata": {
  "kernelspec": {
   "display_name": "Python 3.9.6 64-bit",
   "language": "python",
   "name": "python3"
  },
  "language_info": {
   "codemirror_mode": {
    "name": "ipython",
    "version": 3
   },
   "file_extension": ".py",
   "mimetype": "text/x-python",
   "name": "python",
   "nbconvert_exporter": "python",
   "pygments_lexer": "ipython3",
   "version": "3.9.6"
  },
  "vscode": {
   "interpreter": {
    "hash": "31f2aee4e71d21fbe5cf8b01ff0e069b9275f58929596ceb00d14d90e3e16cd6"
   }
  }
 },
 "nbformat": 4,
 "nbformat_minor": 5
}
