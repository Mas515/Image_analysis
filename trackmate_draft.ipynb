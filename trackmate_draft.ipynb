{
 "cells": [
  {
   "cell_type": "code",
   "execution_count": null,
   "metadata": {},
   "outputs": [],
   "source": [
    "# #cmd shit P search jupyter\n",
    "# import os\n",
    "# filename =[]\n",
    "\n",
    "# filepath='/Users/secchim/Downloads/CellProfiler/corrected_movies_movie_example/trackmate_output_split'\n",
    "# for root, dirs, files in os.walk(filepath): # will open up all the folders, dirs is all the name of the folder it finds, files will contain all the filenames it finds\n",
    "#         for file in files:\n",
    "#                 ##filename=os.path.join(root,file)## delete?\n",
    "                \n",
    "#                 if file.endswith(\"- T=0.tif\"):\n",
    "#                     ind=file.index(\"- T=0.tif\")\n",
    "#                     rep=file[ind:]\n",
    "#                     file_init=file.replace(rep, '-')\n",
    "#                     filename.append(file_init) \n",
    "\n",
    "# print(filename)\n",
    "\n",
    "# sequence=[]\n",
    "\n",
    "# # for root, dirs, files in os.walk(filepath):\n",
    "# #     for file in files:\n",
    "# #         for i in filename:\n",
    "# #             if i in file:\n",
    "# #                 sequence.append(file)\n",
    "\n",
    "# for root, dirs, files in os.walk(filepath):\n",
    "#     for unique_file in filename:\n",
    "#         sequence=[os.path.join(root, i) for i in files if unique_file in i]# i is representing an individual file name\n",
    "\n",
    "#         print(sequence)"
   ]
  },
  {
   "cell_type": "code",
   "execution_count": null,
   "metadata": {},
   "outputs": [],
   "source": [
    "#open cv or scikit image \n",
    "\n",
    "import os\n",
    "import natsort\n",
    "from natsort import natsorted\n",
    "import numpy as np\n",
    "from skimage import io\n",
    "from tifffile import imwrite\n",
    "\n",
    "filename =[]\n",
    "\n",
    "filepath='/Users/secchim/Downloads/CellProfiler/movie_pipeline_test/7_KuO_output_timepoint_split'\n",
    "#filepath='/Users/secchim/Downloads/CellProfiler/corrected_movies_movie_example/CP_output'\n",
    "for root, dirs, files in os.walk(filepath): # will open up all the folders, dirs is all the name of the folder it finds, files will contain all the filenames it finds\n",
    "    for file in files:               \n",
    "        if file.endswith(\" - T=0.tiff\"):\n",
    "            ind=file.index(\"_Ch3_xyzCorrected.tif - T=0.tiff\")\n",
    "            rep=file[ind:]\n",
    "            file_init=file.replace(rep, '_')\n",
    "            filename.append(file_init)\n",
    "filename"
   ]
  },
  {
   "cell_type": "code",
   "execution_count": null,
   "metadata": {},
   "outputs": [],
   "source": [
    "sequence=[]\n",
    "im_data_sequences = []\n",
    "for root, dirs, files in os.walk(filepath):\n",
    "\tfor unique_file in filename:\n",
    "\t\tsequence=[os.path.join(root, i) for i in files if unique_file in i]# i is representing an individual file name \n",
    "\t\tx=natsorted(sequence)\n",
    "\t\tim_data_sequence = [io.imread(fn) for fn in x]\n",
    "\t\tim_data_sequences.append((unique_file, im_data_sequence)) #the parenthesis is creating a tuple which has 2 elements\n",
    "\t\tprint(x)"
   ]
  },
  {
   "cell_type": "code",
   "execution_count": 87,
   "metadata": {},
   "outputs": [
    {
     "name": "stdout",
     "output_type": "stream",
     "text": [
      "did write movies/VWF_043_MS211126_m4-homeostasismovie_2_P7++_.tiff\n",
      "did write movies/VWF_048_MS220118_M3_movie2homeostasis_P12+_.tiff\n",
      "did write movies/VWF_043_MS211126_m4-homeostasismovie_2_P12+_.tiff\n",
      "did write movies/VWF_049_MS220201_M1_Snap_movie5depletion_P10spot_.tiff\n",
      "did write movies/VWF_062_MS220421_M2_movie_P7_.tiff\n",
      "did write movies/VWF_049_MS220201_M1_Snap_movie5depletion_P152kuo_.tiff\n",
      "did write movies/VWF_048_MS220118_M3_movie4plt_P27+_.tiff\n",
      "did write movies/VWF_049_MS220201_M1_Snap_movie5depletion_P12DP_.tiff\n",
      "did write movies/VWF_062_MS220421_M2_movie_P4_.tiff\n",
      "did write movies/VWF_053_MS220209_M1_movie2homeostasis_P18kuo_.tiff\n",
      "did write movies/VWF_048_MS220118_M3_movie4plt_P6DP+_.tiff\n",
      "did write movies/VWF_043_MS211126_m4-homeostasismovie_2_P1<3_.tiff\n",
      "did write movies/VWF_048_MS220118_M3_movie4plt_P12+_.tiff\n",
      "did write movies/VWF_048_MS220118_M3_movie2homeostasis_P13+_.tiff\n",
      "did write movies/VWF_049_MS220201_M1_Snap_movie5depletion_P9kuo2_.tiff\n",
      "did write movies/VWF_048_MS220118_M3_movie2homeostasis_P6DP+_.tiff\n",
      "did write movies/VWF_053_MS220209_M1_movie2homeostasis_P26kuovascu_.tiff\n",
      "did write movies/VWF_048_MS220118_M3_movie2homeostasis_P14+_.tiff\n",
      "did write movies/VWF_062_MS220421_M2_movie_P6_.tiff\n",
      "did write movies/VWF_048_MS220118_M3_movie4plt_P22+_.tiff\n",
      "did write movies/VWF_053_MS220209_M1_movie2homeostasis_P14partlygreen_.tiff\n",
      "did write movies/VWF_053_MS220209_M1_movie2homeostasis_P16DP_.tiff\n",
      "did write movies/VWF_053_MS220209_M1_movie2homeostasis_P24kuomk_.tiff\n",
      "did write movies/VWF_049_MS220201_M1_Snap_movie5depletion_P14touchMK_.tiff\n"
     ]
    }
   ],
   "source": [
    "for movie_name, movie_timepoints in im_data_sequences:#because tuple : first element will be movie name, second element will be movie_timepoint\n",
    "    out_image = io.concatenate_images(movie_timepoints)\n",
    "    imwrite(f'/Users/secchim/Downloads/CellProfiler/movie_pipeline_test/8_concatenated_KuO_output/{movie_name}Ch8_xyzCorrected.tiff', out_image, imagej=True, metadata={'axes': 'TZYX'})\n",
    "    print(f'did write movies/{movie_name}.tiff')"
   ]
  },
  {
   "cell_type": "code",
   "execution_count": 37,
   "metadata": {},
   "outputs": [],
   "source": [
    "# sample = '/Users/secchim/Downloads/CellProfiler/movie_pipeline_test/7_KuO_output_timepoint_split/VWF_043_MS211126_m4-homeostasismovie_2_P7++_Ch3_xyzCorrected.tif - T=0.tiff'\n",
    "# sample2 = '/Users/secchim/Downloads/CellProfiler/movie_pipeline_test/7_KuO_output_timepoint_split/VWF_043_MS211126_m4-homeostasismovie_2_P7++_Ch3_xyzCorrected.tif - T=1.tiff'\n",
    "\n",
    "# sample_data = io.imread(sample)\n",
    "# sample_data2 = io.imread(sample2)"
   ]
  },
  {
   "cell_type": "code",
   "execution_count": 39,
   "metadata": {},
   "outputs": [
    {
     "data": {
      "text/plain": [
       "((12, 508, 510), (12, 508, 510))"
      ]
     },
     "execution_count": 39,
     "metadata": {},
     "output_type": "execute_result"
    }
   ],
   "source": [
    "# sample_data.shape, sample_data2.shape"
   ]
  },
  {
   "cell_type": "code",
   "execution_count": 50,
   "metadata": {},
   "outputs": [],
   "source": [
    "# import matplotlib.pyplot as plt\n"
   ]
  },
  {
   "cell_type": "code",
   "execution_count": 51,
   "metadata": {},
   "outputs": [],
   "source": [
    "# out_image = io.concatenate_images((sample_data, sample_data2))"
   ]
  },
  {
   "cell_type": "code",
   "execution_count": 52,
   "metadata": {},
   "outputs": [
    {
     "data": {
      "text/plain": [
       "(2, 12, 508, 510)"
      ]
     },
     "execution_count": 52,
     "metadata": {},
     "output_type": "execute_result"
    }
   ],
   "source": [
    "# out_image.shape"
   ]
  },
  {
   "cell_type": "code",
   "execution_count": 53,
   "metadata": {},
   "outputs": [],
   "source": [
    "# imwrite('the_concat_image.tiff', out_image, imagej=True, metadata={'axes': 'TZYX'})"
   ]
  },
  {
   "cell_type": "code",
   "execution_count": null,
   "metadata": {},
   "outputs": [],
   "source": [
    "# from ij import IJ\n",
    "# from email.mime import image\n",
    "# from fiji.plugin.trackmate import Model\n",
    "# from fiji.plugin.trackmate import Settings\n",
    "# from fiji.plugin.trackmate import TrackMate\n",
    "# from fiji.plugin.trackmate import SelectionModel\n",
    "# from fiji.plugin.trackmate import Logger\n",
    "# from fiji.plugin.trackmate.detection import LogDetectorFactory\n",
    "# from fiji.plugin.trackmate.tracking.sparselap import SparseLAPTrackerFactory\n",
    "# from fiji.plugin.trackmate.tracking import LAPUtils\n",
    "\n",
    "# import fiji.plugin.trackmate.visualization.hyperstack.HyperStackDisplayer as HyperStackDisplayer\n",
    "# import fiji.plugin.trackmate.features.FeatureFilter as FeatureFilter\n",
    "# import sys\n",
    "# import fiji.plugin.trackmate.features.track.TrackDurationAnalyzer as TrackDurationAnalyzer\n",
    "# from  fiji.plugin.trackmate.action import LabelImgExporter\n",
    "\n",
    "\n",
    "# import os\n",
    "# filename =[]\n",
    "\n",
    "# filepath='/Users/secchim/Downloads/CellProfiler/corrected_movies_movie_example/trackmate_output_split'\n",
    "# for root, dirs, files in os.walk(filepath): # will open up all the folders, dirs is all the name of the folder it finds, files will contain all the filenames it finds\n",
    "#         for file in files:               \n",
    "#                 if file.endswith(\"- T=0.tif\"):\n",
    "#                     ind=file.index(\"- T=0.tif\")\n",
    "#                     rep=file[ind:]\n",
    "#                     file_init=file.replace(rep, '-')\n",
    "#                     filename.append(file_init) \n",
    "\n",
    "# sequence=[]\n",
    "\n",
    "# for root, dirs, files in os.walk(filepath):\n",
    "#     for unique_file in filename:\n",
    "#         sequence=[os.path.join(root, i) for i in files if unique_file in i]# i is representing an individual file name\n",
    "        \n",
    "#         #sequence=[os.path.join(root, i) for i in files if unique_file in files]# i is representing an individual file name\n",
    "\n",
    "#        # filename.append(os.path.join(root, unique_file))\n",
    "#         ###open image\n",
    "#                     #imp= IJ.openImage Sequence (sequence)  \n",
    "#         IJ.run(\"Image Sequence...\", \"open=\"+sequence+\" sort\")"
   ]
  },
  {
   "cell_type": "code",
   "execution_count": 7,
   "metadata": {},
   "outputs": [
    {
     "ename": "SyntaxError",
     "evalue": "invalid syntax (1215506127.py, line 2)",
     "output_type": "error",
     "traceback": [
      "\u001b[0;36m  Cell \u001b[0;32mIn [7], line 2\u001b[0;36m\u001b[0m\n\u001b[0;31m    pip install fiji\u001b[0m\n\u001b[0m        ^\u001b[0m\n\u001b[0;31mSyntaxError\u001b[0m\u001b[0;31m:\u001b[0m invalid syntax\n"
     ]
    }
   ],
   "source": [
    "# pip install IJ\n",
    "#pip install fiji"
   ]
  }
 ],
 "metadata": {
  "kernelspec": {
   "display_name": "Python 3.8.13 ('CellProfiler_plugins2')",
   "language": "python",
   "name": "python3"
  },
  "language_info": {
   "codemirror_mode": {
    "name": "ipython",
    "version": 3
   },
   "file_extension": ".py",
   "mimetype": "text/x-python",
   "name": "python",
   "nbconvert_exporter": "python",
   "pygments_lexer": "ipython3",
   "version": "3.8.13"
  },
  "orig_nbformat": 4,
  "vscode": {
   "interpreter": {
    "hash": "a52b81fda671280f3bd651fba19407d6ec1706a87e47ae04b6fb04599d0c0774"
   }
  }
 },
 "nbformat": 4,
 "nbformat_minor": 2
}
